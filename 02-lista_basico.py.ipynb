{
 "cells": [
  {
   "cell_type": "code",
   "execution_count": null,
   "id": "0f61d419",
   "metadata": {},
   "outputs": [
    {
     "name": "stdout",
     "output_type": "stream",
     "text": [
      "Informe sua idade: 1\n",
      "Sua idade é 1\n"
     ]
    }
   ],
   "source": [
    "\"\"\"2.Faça um programa que leia a validade das informações:\n",
    "a. Idade: entre 0 e 150;\n",
    "b. Salário: maior que 0;\n",
    "c. Sexo: M, F ou Outro;\n",
    "O programa deve imprimir uma mensagem de erro para cada informação inválida.\"\"\"\n",
    "\n",
    "\n",
    "\n",
    "\n",
    "\n",
    "prog = str(\"on\")\n",
    "while prog != (\"off\") :\n",
    "    idade = int(input(\"Informe sua idade: \"))\n",
    "    if (idade > 0) and (idade < 150) :\n",
    "        print(f\"Sua idade é {idade}\")\n",
    "        \n",
    "    else:\n",
    "        print(\"dados informados estão incorretos, tente de novo\")\n",
    "        prog = off\n",
    "    \n",
    "    salario = float(input(\"Informe Seu salario R$:  \"))    \n",
    "    if salario > 0:\n",
    "        print(f\"Seu salario é R$ {salario} \")\n",
    "    else:\n",
    "        print(\"dados informados estão incorretos, tente de novo\")\n",
    "        prog = off\n",
    "        \n",
    "    sexo = int(input(\"Informe seu sexo: 1-Masculino/2-Feminino/3-Outro \"))    \n",
    "    if sexo == 1:\n",
    "        print(\"Opção: Masculino\")\n",
    "    elif sexo == 2:\n",
    "        print(\"Opção: Feminino\")\n",
    "    elif sexo == 3:\n",
    "        print(\"Opção:Outro\")\n",
    "        outro = str(input(\"Especifique sua escolha:\"))\n",
    "        print(outro)\n",
    "    else:\n",
    "        print(\"dados informados estão incorretos, tente de novo\")\n",
    "        prog = off\n",
    "        \n",
    "    prog=str(input(\"Para sair do sistema digite: off / para continuar digite: on\"))\n",
    "    continue\n",
    "    \n",
    "    \n"
   ]
  },
  {
   "cell_type": "code",
   "execution_count": null,
   "id": "cdbc69fb",
   "metadata": {},
   "outputs": [],
   "source": []
  },
  {
   "cell_type": "code",
   "execution_count": null,
   "id": "1a622061",
   "metadata": {},
   "outputs": [],
   "source": []
  }
 ],
 "metadata": {
  "kernelspec": {
   "display_name": "Python 3 (ipykernel)",
   "language": "python",
   "name": "python3"
  },
  "language_info": {
   "codemirror_mode": {
    "name": "ipython",
    "version": 3
   },
   "file_extension": ".py",
   "mimetype": "text/x-python",
   "name": "python",
   "nbconvert_exporter": "python",
   "pygments_lexer": "ipython3",
   "version": "3.9.7"
  }
 },
 "nbformat": 4,
 "nbformat_minor": 5
}
