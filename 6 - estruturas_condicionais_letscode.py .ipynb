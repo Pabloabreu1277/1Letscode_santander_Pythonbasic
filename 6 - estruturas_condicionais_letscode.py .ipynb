{
 "cells": [
  {
   "cell_type": "code",
   "execution_count": 3,
   "id": "2b7861ae",
   "metadata": {},
   "outputs": [
    {
     "name": "stdout",
     "output_type": "stream",
     "text": [
      "Qual o valor da corrida?50\n",
      "Pegue um onibus\n"
     ]
    }
   ],
   "source": [
    "valor_passagem = 5.10\n",
    "valor_corrida = input(\"Qual o valor da corrida?\")\n",
    "\n",
    "if float(valor_corrida)<= valor_passagem * 5:\n",
    "    print(\"Pague a corrida\")\n",
    "if float(valor_corrida) > valor_passagem * 5:\n",
    "    print(\"Pegue um onibus\") "
   ]
  },
  {
   "cell_type": "code",
   "execution_count": 4,
   "id": "f77191f6",
   "metadata": {},
   "outputs": [
    {
     "name": "stdout",
     "output_type": "stream",
     "text": [
      "Qual o valor da corrida?50\n",
      "Pegue um onibus\n"
     ]
    }
   ],
   "source": [
    "valor_passagem = 5.10\n",
    "valor_corrida = input(\"Qual o valor da corrida?\")\n",
    "\n",
    "if float(valor_corrida)<= valor_passagem * 5:\n",
    "    print(\"Pague a corrida\")\n",
    "else:\n",
    "    print(\"Pegue um onibus\") "
   ]
  },
  {
   "cell_type": "code",
   "execution_count": 12,
   "id": "87beb94c",
   "metadata": {},
   "outputs": [
    {
     "name": "stdout",
     "output_type": "stream",
     "text": [
      "Qual o valor da corrida?30\n",
      "Aguarde um momento valor pode abaixar\n"
     ]
    }
   ],
   "source": [
    "valor_passagem = 5.10\n",
    "valor_corrida = input(\"Qual o valor da corrida?\")\n",
    "\n",
    "if float(valor_corrida)<= valor_passagem * 5:\n",
    "    print(\"Pague a corrida\")\n",
    "elif float(valor_corrida)<= valor_passagem * 6:\n",
    "    print(\"Aguarde um momento valor pode abaixar\") \n",
    "else:\n",
    "    print(\"pegue um onibus!!!\")"
   ]
  },
  {
   "cell_type": "code",
   "execution_count": null,
   "id": "68f10aa4",
   "metadata": {},
   "outputs": [],
   "source": []
  }
 ],
 "metadata": {
  "kernelspec": {
   "display_name": "Python 3 (ipykernel)",
   "language": "python",
   "name": "python3"
  },
  "language_info": {
   "codemirror_mode": {
    "name": "ipython",
    "version": 3
   },
   "file_extension": ".py",
   "mimetype": "text/x-python",
   "name": "python",
   "nbconvert_exporter": "python",
   "pygments_lexer": "ipython3",
   "version": "3.9.7"
  }
 },
 "nbformat": 4,
 "nbformat_minor": 5
}
