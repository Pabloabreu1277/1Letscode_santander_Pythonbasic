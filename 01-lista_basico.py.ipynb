{
 "cells": [
  {
   "cell_type": "code",
   "execution_count": 1,
   "id": "9c0945f1",
   "metadata": {},
   "outputs": [
    {
     "name": "stdout",
     "output_type": "stream",
     "text": [
      "digite um valor monetario para calcular o seu desconto de 15%:1000\n",
      "O novo valor é : 850.0 \n"
     ]
    }
   ],
   "source": [
    "#1.Faça um programa que peça um valor \n",
    "#monetário e diminua-o em 15%. \n",
    "#Seu programa deve imprimir a mensagem \n",
    "#“O novo valor é [valor]”.\n",
    "\n",
    "\n",
    "money = float(input(\"digite um valor monetario para calcular o seu desconto de 15%:\"))\n",
    "\n",
    "results = money * 0.85\n",
    "\n",
    "print(f\"O novo valor é : {results} \")"
   ]
  },
  {
   "cell_type": "code",
   "execution_count": null,
   "id": "e9ba0dcf",
   "metadata": {},
   "outputs": [],
   "source": []
  }
 ],
 "metadata": {
  "kernelspec": {
   "display_name": "Python 3 (ipykernel)",
   "language": "python",
   "name": "python3"
  },
  "language_info": {
   "codemirror_mode": {
    "name": "ipython",
    "version": 3
   },
   "file_extension": ".py",
   "mimetype": "text/x-python",
   "name": "python",
   "nbconvert_exporter": "python",
   "pygments_lexer": "ipython3",
   "version": "3.9.7"
  }
 },
 "nbformat": 4,
 "nbformat_minor": 5
}
