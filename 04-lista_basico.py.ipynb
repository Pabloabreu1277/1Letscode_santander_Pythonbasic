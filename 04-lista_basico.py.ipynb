{
 "cells": [
  {
   "cell_type": "code",
   "execution_count": 5,
   "id": "d05749ef",
   "metadata": {},
   "outputs": [
    {
     "name": "stdout",
     "output_type": "stream",
     "text": [
      "Para sair do sistema digite 0\n",
      "digite um numero inteiro para lhe mostrar sua tabuada:9\n",
      " tabuada 0 X 9.0 = 0.0\n",
      " tabuada 1 X 9.0 = 9.0\n",
      " tabuada 2 X 9.0 = 18.0\n",
      " tabuada 3 X 9.0 = 27.0\n",
      " tabuada 4 X 9.0 = 36.0\n",
      " tabuada 5 X 9.0 = 45.0\n",
      " tabuada 6 X 9.0 = 54.0\n",
      " tabuada 7 X 9.0 = 63.0\n",
      " tabuada 8 X 9.0 = 72.0\n",
      " tabuada 9 X 9.0 = 81.0\n",
      " tabuada 10 X 9.0 = 90.0\n",
      "Para sair do sistema digite 0\n",
      "digite um numero inteiro para lhe mostrar sua tabuada:0\n"
     ]
    }
   ],
   "source": [
    "#4.Faça um programa que imprima a tabuada do 9 (de 9*1 a 9*10) usando loops.\n",
    "\n",
    "i = -1\n",
    "\n",
    "while i != 0 :\n",
    "    print(\"Para sair do sistema digite 0\")\n",
    "    i =float(input(\"digite um numero inteiro para lhe mostrar sua tabuada:\"))\n",
    "    if i != 0:\n",
    "            for t in range(11):\n",
    "                m = float(t * i)\n",
    "                print(f\" tabuada {t} X {i} = {m}\")\n",
    "    else:\n",
    "        break\n",
    "        \n",
    "    "
   ]
  },
  {
   "cell_type": "code",
   "execution_count": null,
   "id": "c28955f0",
   "metadata": {},
   "outputs": [],
   "source": []
  },
  {
   "cell_type": "code",
   "execution_count": null,
   "id": "80b96202",
   "metadata": {},
   "outputs": [],
   "source": []
  }
 ],
 "metadata": {
  "kernelspec": {
   "display_name": "Python 3 (ipykernel)",
   "language": "python",
   "name": "python3"
  },
  "language_info": {
   "codemirror_mode": {
    "name": "ipython",
    "version": 3
   },
   "file_extension": ".py",
   "mimetype": "text/x-python",
   "name": "python",
   "nbconvert_exporter": "python",
   "pygments_lexer": "ipython3",
   "version": "3.9.7"
  }
 },
 "nbformat": 4,
 "nbformat_minor": 5
}
